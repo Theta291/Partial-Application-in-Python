{
 "cells": [
  {
   "cell_type": "markdown",
   "metadata": {},
   "source": [
    "# Partial Application"
   ]
  },
  {
   "cell_type": "markdown",
   "metadata": {},
   "source": [
    "## What is partial application?\n",
    "\n",
    "Partial application is a way of feeding a function only one argument without giving that function the rest of the arguments. This \"feeding\" process is called \"partial application\". For short, we say \"papply\" instead of \"partially apply\". After you papply one argument to a function, you get another function that accepts the rest of the arguments and outputs the result. Papply is available in the library \"functools\" as \"functools.partial\". Here I import it a \"papply\" since that's what we'll refer to it as."
   ]
  },
  {
   "cell_type": "code",
   "execution_count": null,
   "metadata": {},
   "outputs": [],
   "source": [
    "from functools import partial as papply"
   ]
  },
  {
   "cell_type": "markdown",
   "metadata": {},
   "source": [
    "To use papply, you give it a function and the first argument of the function. As an example, I'll show you how to use papply with addition and the number \"1\". Here is a possible definition of a function in python that adds two things together:"
   ]
  },
  {
   "cell_type": "code",
   "execution_count": null,
   "metadata": {},
   "outputs": [],
   "source": [
    "add = lambda x, y: x + y"
   ]
  },
  {
   "cell_type": "markdown",
   "metadata": {},
   "source": [
    "To papply \"1\" to this function, we do this:"
   ]
  },
  {
   "cell_type": "code",
   "execution_count": null,
   "metadata": {},
   "outputs": [],
   "source": [
    "add1 = papply(add, 1)"
   ]
  },
  {
   "cell_type": "markdown",
   "metadata": {},
   "source": [
    "Our result is the function \"add1\". What add1 does is that it only takes one argument, and it adds that to \"1\"."
   ]
  },
  {
   "cell_type": "code",
   "execution_count": null,
   "metadata": {},
   "outputs": [],
   "source": [
    "print(add1(2))"
   ]
  },
  {
   "cell_type": "markdown",
   "metadata": {},
   "source": [
    "This example shows one potential use of partial application in other programming languages. If you're trying to create a language with a function that adds 1 (commonly called the \"increment operator\"), but all you have is addition and papply, you can use those two to make a function that adds 1."
   ]
  },
  {
   "cell_type": "markdown",
   "metadata": {},
   "source": [
    "### Exercise 1.1\n",
    "\n",
    "Now you try! Modify the code below to make a function that adds 2."
   ]
  },
  {
   "cell_type": "code",
   "execution_count": null,
   "metadata": {},
   "outputs": [],
   "source": [
    "#FIXME: Remove the quotes below and make a function called \"add2\" that adds 2 to its argument.\n",
    "'add2 = papply(add, ???)'\n",
    "\n",
    "\n",
    "#If you got it right, you should see \"True\" appear below 3 times after running this cell.\n",
    "print(add2(1) == 3)\n",
    "print(add2(-1) == 1)\n",
    "print(add2(5) == 7)"
   ]
  },
  {
   "cell_type": "markdown",
   "metadata": {},
   "source": [
    "### Exercise 1.2\n",
    "\n",
    "Now I'll give you a function that multiplies. Use papply to make a function that always multiplies by 2."
   ]
  },
  {
   "cell_type": "code",
   "execution_count": null,
   "metadata": {},
   "outputs": [],
   "source": [
    "multiply = lambda x, y: x * y"
   ]
  },
  {
   "cell_type": "code",
   "execution_count": null,
   "metadata": {},
   "outputs": [],
   "source": [
    "#FIXME: Type a line of code below that creates a function called \"mul2\" that multiplies its argument by 2.\n",
    "\n",
    "\n",
    "#If you got it right, you should see \"True\" appear below 3 times after running this cell.\n",
    "print(mul2(0) == 0)\n",
    "print(mul2(1) == 2)\n",
    "print(mul2(mul2(1)) == 4)"
   ]
  },
  {
   "cell_type": "markdown",
   "metadata": {},
   "source": [
    "### Exercise 1.3\n",
    "\n",
    "Finally, I'll give you function that subtracts two numbers. Use papply to make a function that takes the negative of its argument."
   ]
  },
  {
   "cell_type": "code",
   "execution_count": null,
   "metadata": {},
   "outputs": [],
   "source": [
    "subtract = lambda x, y: x - y"
   ]
  },
  {
   "cell_type": "code",
   "execution_count": null,
   "metadata": {},
   "outputs": [],
   "source": [
    "#Type a line of code below that creates a function called \"neg\" that takes the negative of its argument.\n",
    "\n",
    "\n",
    "#If you got it right, you should see \"True\" appear below 3 times after running this cell.\n",
    "print(neg(0) == 0)\n",
    "print(neg(1) == -1)\n",
    "print(neg(neg(1)) == 1)"
   ]
  },
  {
   "cell_type": "markdown",
   "metadata": {},
   "source": [
    "## Repeated Partial Application\n",
    "\n",
    "For functions that take more than one argument, papply can be used more than once. To use it twice, just use it once and get the output, then use it on that output.\n",
    "\n",
    "Using papply twice papplies more than one argument to a function. For example, consider this function that calculates the y-coordinate of a point on a line given the slope, y-intercept, and x-coordinate."
   ]
  },
  {
   "cell_type": "code",
   "execution_count": null,
   "metadata": {},
   "outputs": [],
   "source": [
    "lineYCoord = lambda m, b, x: m * x + b"
   ]
  },
  {
   "cell_type": "markdown",
   "metadata": {},
   "source": [
    "Now, say you had one specific line in mind: the line with a slope of 2 and a y-intercept of -1. Let's say you are trying to graph the line by finding the y-coordinate for all whole number x-coordinates from -5 to 5. You could find them all by doing this:"
   ]
  },
  {
   "cell_type": "code",
   "execution_count": null,
   "metadata": {},
   "outputs": [],
   "source": [
    "y1 = lineYCoord(2, -1, -5)\n",
    "y2 = lineYCoord(2, -1, -4)\n",
    "y3 = lineYCoord(2, -1, -3)\n",
    "y4 = lineYCoord(2, -1, -2)\n",
    "y5 = lineYCoord(2, -1, -1)\n",
    "y6 = lineYCoord(2, -1, 0)\n",
    "y7 = lineYCoord(2, -1, 1)\n",
    "y8 = lineYCoord(2, -1, 2)\n",
    "y9 = lineYCoord(2, -1, 3)\n",
    "y10 = lineYCoord(2, -1, 4)\n",
    "y11 = lineYCoord(2, -1, 5)\n",
    "\n",
    "y1, y2, y3, y4, y5, y6, y7, y8, y9, y10, y11"
   ]
  },
  {
   "cell_type": "markdown",
   "metadata": {},
   "source": [
    "However, that wastes a lot of time because you have to type 2, -1 for every single one of those 11 lines. Even if you copy-paste it, the code still doesn't look great, which matters when someone else is trying to read and understand your code.\n",
    "\n",
    "How could we avoid this with papply? We saw with papply that we can make a function with one argument already applied to it. Now let's see how we can papply two arguments so we can avoid writing 2, -1 every time:"
   ]
  },
  {
   "cell_type": "code",
   "execution_count": null,
   "metadata": {},
   "outputs": [],
   "source": [
    "lineToGraph = papply(papply(lineYCoord, 2), -1)\n",
    "\n",
    "y1 = lineToGraph(-5)\n",
    "y2 = lineToGraph(-4)\n",
    "y3 = lineToGraph(-3)\n",
    "y4 = lineToGraph(-2)\n",
    "y5 = lineToGraph(-1)\n",
    "y6 = lineToGraph(0)\n",
    "y7 = lineToGraph(1)\n",
    "y8 = lineToGraph(2)\n",
    "y9 = lineToGraph(3)\n",
    "y10 = lineToGraph(4)\n",
    "y11 = lineToGraph(5)\n",
    "\n",
    "y1, y2, y3, y4, y5, y6, y7, y8, y9, y10, y11"
   ]
  },
  {
   "cell_type": "markdown",
   "metadata": {},
   "source": [
    "Now someone else reading our code can tell easily that we are only using the line we want to graph, and no one will have to wonder why 2, -1 appears in our code over and over again.\n",
    "\n",
    "But what is really happening in that top line? Here is the same code re-written in an easier-to-understand way:"
   ]
  },
  {
   "cell_type": "code",
   "execution_count": null,
   "metadata": {},
   "outputs": [],
   "source": [
    "linesWithSlope2 = papply(lineYCoord, 2)\n",
    "lineToGraph = papply(linesWithSlope2, -1)"
   ]
  },
  {
   "cell_type": "markdown",
   "metadata": {},
   "source": [
    "Now you can see that we are actually papplying the slope (2) first, and getting an output. This output function tells you the y-coordinate when you give it the y-intercept and the x-coordinate. It assumes the slope is 2 because we already papplied 2.\n",
    "\n",
    "We then papply the y-intercept (-1) to that output function, and get our final function that we want. This final function tells you the y-coordinate when you give it the x-coordinate, and it assumes the slope is 2 and the y-intercept is -1. This is exactly what we wanted.\n"
   ]
  },
  {
   "cell_type": "markdown",
   "metadata": {},
   "source": [
    "### Exercise 2.1\n",
    "\n",
    "Use papply twice with the lineYCoord to get a function that gives you the y-coordinate for a line with a slope of 3 and a y-intercept of 5."
   ]
  },
  {
   "cell_type": "code",
   "execution_count": null,
   "metadata": {},
   "outputs": [],
   "source": [
    "#FIXME: Remove the quotes and replace m and b with the correct numbers:\n",
    "'line2 = papply(papply(lineYCoord, m), b)'\n",
    "\n",
    "#If you got it right, you should see \"True\" appear below 3 times after running this cell.\n",
    "print(line2(0) == 5)\n",
    "print(line2(3) == 14)\n",
    "print(line2(-1) == 2)"
   ]
  },
  {
   "cell_type": "markdown",
   "metadata": {},
   "source": [
    "### Exercise 2.2\n",
    "\n",
    "I'll give you a function that calculates about how many meters high a falling ball is after a certain amount of time. You tell it how fast you threw it upwards (in meters per second), how high up you were when you threw it (in meters) and how long it has been in the air (in seconds). Use papply to get a function that tells you how high the ball is if you tell it how many seconds it has been in the air, assuming you were 10 meters high when you threw it and you threw it upwards at 7 meters per second."
   ]
  },
  {
   "cell_type": "code",
   "execution_count": null,
   "metadata": {},
   "outputs": [],
   "source": [
    "ballheight = lambda velocity, height, time: -4.9 * time ** 2 + velocity * time + height"
   ]
  },
  {
   "cell_type": "code",
   "execution_count": null,
   "metadata": {},
   "outputs": [],
   "source": [
    "#FIXME: Replace the ??? with the papplied function.\n",
    "'ballheightspecific = ???'\n",
    "\n",
    "\n",
    "#If you got it right, you should see \"True\" appear below 3 times after running this cell.\n",
    "print(int(ballheightspecific(1)) == 12)\n",
    "print(int(ballheightspecific(3)) == -13)\n",
    "print(int(ballheightspecific(5)) == -77)"
   ]
  },
  {
   "cell_type": "markdown",
   "metadata": {},
   "source": [
    "### Exercise 2.3\n",
    "\n",
    "Write a function called 'same' that takes a function and returns a function that is the same, but uses papply to apply each argument one by one instead of plugging them in all at once. Hint: you can use a for loop to do this."
   ]
  },
  {
   "cell_type": "code",
   "execution_count": null,
   "metadata": {},
   "outputs": [],
   "source": [
    "#FIXME: Type your function below.\n",
    "\n",
    "\n",
    "#If you got it right, you should see \"True\" appear below 2 times after running this cell.\n",
    "print(same(add)(1, 2) == add(1, 2))\n",
    "print(same(lineYCoord)(1, 2, 3) == lineYCoord(1, 2, 3))"
   ]
  },
  {
   "cell_type": "markdown",
   "metadata": {},
   "source": [
    "## Bonus: Using papply to try combinations.\n",
    "\n",
    "Sometimes, you want to use a function many times to get many possible results with slightly different inputs. For example, in our previous example, we used the lineToGraph function 11 times with different inputs. There are many ways to do this without writing 11 lines of code. One way is using a list comprehension:"
   ]
  },
  {
   "cell_type": "code",
   "execution_count": null,
   "metadata": {},
   "outputs": [],
   "source": [
    "[lineToGraph(x) for x in range(-5, 6)]"
   ]
  },
  {
   "cell_type": "markdown",
   "metadata": {},
   "source": [
    "Another way is to use the \"map\" function."
   ]
  },
  {
   "cell_type": "code",
   "execution_count": null,
   "metadata": {},
   "outputs": [],
   "source": [
    "list(map(lineToGraph, range(-5, 6)))"
   ]
  },
  {
   "cell_type": "markdown",
   "metadata": {},
   "source": [
    "One final way is to use a slight modification of the \"papply\" function. We can create a slightly different function that papplies each element of an iterable to the function, trying each element separately. For insight on how to make this function, let's look at a possible implementation of papply that we can make from scratch:"
   ]
  },
  {
   "cell_type": "code",
   "execution_count": null,
   "metadata": {},
   "outputs": [],
   "source": [
    "def papply(func, x):\n",
    "    def papplied_function(*args):\n",
    "        return func(x, *args)\n",
    "    return papplied_function"
   ]
  },
  {
   "cell_type": "markdown",
   "metadata": {},
   "source": [
    "We can see now that the papply function creates an entirely new function inside of it, and returns this new function. This function takes a list as you give it, then calculates the input function with x, then all the other arguments in the list of arguments.\n",
    "\n",
    "However, what we want to do is papply a whole iterable to the first argument and try each element. Let's use a list comprehension to do this:"
   ]
  },
  {
   "cell_type": "code",
   "execution_count": null,
   "metadata": {},
   "outputs": [],
   "source": [
    "def papplycombo(func, xiter):\n",
    "    def papplied_function(*args):\n",
    "        return [func(x, *args) for x in xiter]\n",
    "    return papplied_function"
   ]
  },
  {
   "cell_type": "markdown",
   "metadata": {},
   "source": [
    "Now, instead of plugging in 'x' into the function, papplycombo plugs in every element of 'xiter' and returns a list with each possible combination.\n",
    "\n",
    "Here is a demonstration of how it can be used to calculate the y-coord for the lineToGraph given all whole number x-coords from -5 to 5"
   ]
  },
  {
   "cell_type": "code",
   "execution_count": null,
   "metadata": {},
   "outputs": [],
   "source": [
    "lineToGraphEveryY = papplycombo(lineToGraph, range(-5, 6))\n",
    "\n",
    "lineToGraphEveryY()"
   ]
  },
  {
   "cell_type": "markdown",
   "metadata": {},
   "source": [
    "## Trying out every combination of every possible argument.\n",
    "\n",
    "We can use papplycombo multiple times, just like we used papply multiple times. For example, let's say we want to make an addition table of every possible combination of 2 whole numbers from 1 to 12. We would do it like this using papplycombo:"
   ]
  },
  {
   "cell_type": "code",
   "execution_count": null,
   "metadata": {},
   "outputs": [],
   "source": [
    "addTable = papplycombo(papplycombo(add, range(1, 13)), range(1, 13))\n",
    "\n",
    "addTable()"
   ]
  },
  {
   "cell_type": "markdown",
   "metadata": {},
   "source": [
    "This was the exact same as using papply multiple times, but this time instead of plugging in one single number for each argument, we plugged in a bunch of numbers that we want to try out."
   ]
  },
  {
   "cell_type": "markdown",
   "metadata": {},
   "source": [
    "### Exercise 3.1\n",
    "\n",
    "Create a multiplication table for all combinations of 2 whole numbers from 1 to 12 using papplycombo."
   ]
  },
  {
   "cell_type": "code",
   "execution_count": null,
   "metadata": {},
   "outputs": [],
   "source": [
    "#FIXME: Type in your answer for the multTable function below!\n",
    "'multTable = ???'\n",
    "\n",
    "#If you got it right, you should see \"True\" appear below 3 times after running this cell.\n",
    "table = multTable()\n",
    "print(1 * 3 == table[0][2])\n",
    "print(7 * 10 == table[6][9])\n",
    "print(12 * 12 == table[11][11])"
   ]
  },
  {
   "cell_type": "markdown",
   "metadata": {},
   "source": [
    "### Exercise 3.2\n",
    "\n",
    "Convert your answer for the \"same\" function into one that uses papplycombo to create try every single combination of every argument for the input function. Make sure the arguments line up with the indeces of the result. For example, in the addition table when we wanted to see what 3\\*2  is equal to, we did table\\[3-1\\]\\[2-1\\]. \"3\" told us what to put for the first index, and \"2\" told us what to put for the second index."
   ]
  },
  {
   "cell_type": "code",
   "execution_count": null,
   "metadata": {
    "scrolled": true
   },
   "outputs": [],
   "source": [
    "#FIXME: Type in your answer for the \"combo\" function below.\n",
    "\n",
    "adjFunc = lambda adj1, adj2, adj3: 'The ' + adj1 + ', ' + adj2 + ' fox jumped over the ' + adj3 + ' dog.'\n",
    "adjFuncAllCombos = combo(adjFunc)\n",
    "\n",
    "adj1Choices = ['quick', 'energetic', 'speedy']\n",
    "adj2Choices = ['brown', 'maroon', 'red']\n",
    "adj3Choices = ['lazy', 'sleepy', 'lethargic']\n",
    "adjTable = adjFuncAllCombos(adj1Choices, adj2Choices, adj3Choices)\n",
    "\n",
    "#If you got it right, you should see \"True\" appear below 3 times after running this cell.\n",
    "print(adjTable[0][0][0] == adjFunc(adj1Choices[0], adj2Choices[0], adj3Choices[0]))\n",
    "print(adjTable[1][0][0] == adjFunc(adj1Choices[1], adj2Choices[0], adj3Choices[0]))\n",
    "print(adjTable[0][2][1] == adjFunc(adj1Choices[0], adj2Choices[2], adj3Choices[1]))"
   ]
  },
  {
   "cell_type": "markdown",
   "metadata": {},
   "source": [
    "# Solutions"
   ]
  },
  {
   "cell_type": "markdown",
   "metadata": {},
   "source": [
    "### Exercise 1.1\n",
    "\n",
    "We have seen that to make a function that adds 1, we do \"add1 = papply(add, 1)\". To make a function that adds 2, we replace the \"1\" in that line with a \"2\":"
   ]
  },
  {
   "cell_type": "code",
   "execution_count": null,
   "metadata": {},
   "outputs": [],
   "source": [
    "add2 = papply(add, 2)"
   ]
  },
  {
   "cell_type": "markdown",
   "metadata": {},
   "source": [
    "### Exercise 1.2\n",
    "\n",
    "We saw that to make a function that adds 2, we do \"add2 = papply(add, 2)\". Now we similarly have a function that multiplies by 2. We just replace the \"add\" in the code that makes \"add2\" with \"multiply\"."
   ]
  },
  {
   "cell_type": "code",
   "execution_count": null,
   "metadata": {},
   "outputs": [],
   "source": [
    "mul2 = papply(multiply, 2)"
   ]
  },
  {
   "cell_type": "markdown",
   "metadata": {},
   "source": [
    "### Exercise 1.3\n",
    "\n",
    "First, we have to understand how we could use the subtraction function to take the negative of a number. To do this, we have to think of subtraction as adding the negative of a number: "
   ]
  },
  {
   "cell_type": "code",
   "execution_count": null,
   "metadata": {},
   "outputs": [],
   "source": [
    "subtract = lambda x, y: x + -y"
   ]
  },
  {
   "cell_type": "markdown",
   "metadata": {},
   "source": [
    "Now we have a function that adds x to negative y. We know that adding 0 to any number doesn't change the number. Therefore, if we add 0 to -y, we get -y. That means we can write neg like this:"
   ]
  },
  {
   "cell_type": "code",
   "execution_count": null,
   "metadata": {},
   "outputs": [],
   "source": [
    "neg = lambda y: 0 + -y"
   ]
  },
  {
   "cell_type": "markdown",
   "metadata": {},
   "source": [
    "The addition of negative y above is the same as subtraction:"
   ]
  },
  {
   "cell_type": "code",
   "execution_count": null,
   "metadata": {},
   "outputs": [],
   "source": [
    "neg = lambda y: 0 - y"
   ]
  },
  {
   "cell_type": "markdown",
   "metadata": {},
   "source": [
    "But we need to write neg using papply. How can we do this? Looking at the definition of neg above, it shows that we can get the negative of y by subtracting y from 0. That means that the first argument of the subtraction function is 0."
   ]
  },
  {
   "cell_type": "code",
   "execution_count": null,
   "metadata": {},
   "outputs": [],
   "source": [
    "neg = papply(subtract, 0)"
   ]
  },
  {
   "cell_type": "markdown",
   "metadata": {},
   "source": [
    "### Exercise 2.1\n",
    "\n",
    "We saw previously that to get a line with slope 2 and y-intercept -1, we do this:"
   ]
  },
  {
   "cell_type": "code",
   "execution_count": null,
   "metadata": {},
   "outputs": [],
   "source": [
    "lineToGraph = papply(papply(lineYCoord, 2), -1)"
   ]
  },
  {
   "cell_type": "markdown",
   "metadata": {},
   "source": [
    "The slope was the first number, and the y-intercept was the second number. We have to replace the first number with the slope we want (3) and the second with y-intercept we want (5). This means the answer looks like this:"
   ]
  },
  {
   "cell_type": "code",
   "execution_count": null,
   "metadata": {},
   "outputs": [],
   "source": [
    "line2 = papply(papply(lineYCoord, 3), 5)"
   ]
  },
  {
   "cell_type": "markdown",
   "metadata": {},
   "source": [
    "### Exercise 2.2\n",
    "\n",
    "We are given a velocity of 7 and a height of 10. Looking at the function definition, we can see that the first argument is velocity and the second argument is height. So we papply the first arg:"
   ]
  },
  {
   "cell_type": "code",
   "execution_count": null,
   "metadata": {},
   "outputs": [],
   "source": [
    "func1 = papply(ballheight, 7)"
   ]
  },
  {
   "cell_type": "markdown",
   "metadata": {},
   "source": [
    "Then we papply the second arg:"
   ]
  },
  {
   "cell_type": "code",
   "execution_count": null,
   "metadata": {},
   "outputs": [],
   "source": [
    "ballheightspecific = papply(func1, 10)"
   ]
  },
  {
   "cell_type": "markdown",
   "metadata": {},
   "source": [
    "We can combine these two lines like this:"
   ]
  },
  {
   "cell_type": "code",
   "execution_count": null,
   "metadata": {},
   "outputs": [],
   "source": [
    "ballheightspecific = papply(papply(ballheight, 7), 10)"
   ]
  },
  {
   "cell_type": "markdown",
   "metadata": {},
   "source": [
    "### Exercise 2.3\n",
    "\n",
    "This is a tricky exercise. Let's try it out on a test function first to try to gather some insight into how the process would work. I chose to use a function that multiplies three numbers together:"
   ]
  },
  {
   "cell_type": "code",
   "execution_count": null,
   "metadata": {},
   "outputs": [],
   "source": [
    "mult3 = lambda x, y, z : x * y * z"
   ]
  },
  {
   "cell_type": "markdown",
   "metadata": {},
   "source": [
    "Now let's papply 3 arguments to it. I randomly chose the arguments 2, 3, and 5:"
   ]
  },
  {
   "cell_type": "code",
   "execution_count": null,
   "metadata": {},
   "outputs": [],
   "source": [
    "mult2 = papply(mult3, 2)\n",
    "mult1 = papply(mult2, 3)\n",
    "mult0 = papply(mult1, 5)"
   ]
  },
  {
   "cell_type": "markdown",
   "metadata": {},
   "source": [
    "So after papplying all the arguments, what do we have? Well, papply always outputs a function, but since we already papplied all three arguments to our original function, mult3, the result is a function that takes no arguments. Let's try it out:"
   ]
  },
  {
   "cell_type": "code",
   "execution_count": null,
   "metadata": {},
   "outputs": [],
   "source": [
    "mult0()"
   ]
  },
  {
   "cell_type": "markdown",
   "metadata": {},
   "source": [
    "What we did here was papply the first argument, get an output, papply the second argument, get another output, then papply the last argument, then run the output. Now that we understand the process, we can put it in a for loop, and then hopefully we can modify that loop so that it works for all functions in general. Our original process had one step for each arg, so our loop has to iterate over a list of all the args:"
   ]
  },
  {
   "cell_type": "code",
   "execution_count": null,
   "metadata": {},
   "outputs": [],
   "source": [
    "args = [2, 3, 5]"
   ]
  },
  {
   "cell_type": "markdown",
   "metadata": {},
   "source": [
    "We also can't create a new function in each loop of the argument, so instead we can use one single function instead, and update it every time we loop. I'll call this variable \"currFunc\", short for \"current function\". I call it this because it's our current function until we update it, then it's the new current function.\n",
    "\n",
    "The initial value of this function is our starting point: the mult3 function:"
   ]
  },
  {
   "cell_type": "code",
   "execution_count": null,
   "metadata": {},
   "outputs": [],
   "source": [
    "currFunc = mult3"
   ]
  },
  {
   "cell_type": "markdown",
   "metadata": {},
   "source": [
    "After making the list of args and defining currFunc, this is what our loop looks like:"
   ]
  },
  {
   "cell_type": "code",
   "execution_count": null,
   "metadata": {},
   "outputs": [],
   "source": [
    "for arg in args:\n",
    "    currFunc = papply(currFunc, arg)"
   ]
  },
  {
   "cell_type": "markdown",
   "metadata": {},
   "source": [
    "Our result is a function that requires no arguments, and gives us what the original function would give us."
   ]
  },
  {
   "cell_type": "code",
   "execution_count": null,
   "metadata": {},
   "outputs": [],
   "source": [
    "currFunc()"
   ]
  },
  {
   "cell_type": "markdown",
   "metadata": {},
   "source": [
    "Now we have a loop of code that can papply all the arguments to a function and get the output. The loop looks like this:"
   ]
  },
  {
   "cell_type": "code",
   "execution_count": null,
   "metadata": {},
   "outputs": [],
   "source": [
    "currFunc = mult3\n",
    "for arg in args:\n",
    "    currFunc = papply(currFunc, arg)\n",
    "currFunc()"
   ]
  },
  {
   "cell_type": "markdown",
   "metadata": {},
   "source": [
    "This is very close to what we need. However, our answer has to look like this:"
   ]
  },
  {
   "cell_type": "code",
   "execution_count": null,
   "metadata": {},
   "outputs": [],
   "source": [
    "def same(func):\n",
    "    #Some code that creates a function (otherFunc) that does the same thing as func, but using papply\n",
    "    return otherFunc"
   ]
  },
  {
   "cell_type": "markdown",
   "metadata": {},
   "source": [
    "Since we are re-creating the input function within the \"same\" function, let's put a blank definition in there for now. Later, we can fill it with the code that recreates the input function."
   ]
  },
  {
   "cell_type": "code",
   "execution_count": null,
   "metadata": {},
   "outputs": [],
   "source": [
    "def same(func):\n",
    "    def otherFunc():\n",
    "        #Some code that papplies all the arguments to the function\n",
    "        return\n",
    "    return otherFunc"
   ]
  },
  {
   "cell_type": "markdown",
   "metadata": {},
   "source": [
    "Since func takes a list of args, otherFunc, which should be the exact same thing, should also take a list of args. Also, since func returns some value, so should otherFunc:"
   ]
  },
  {
   "cell_type": "code",
   "execution_count": null,
   "metadata": {},
   "outputs": [],
   "source": [
    "def same(func):\n",
    "    def otherFunc(*args):\n",
    "        #Some code that papplies all the arguments to the function\n",
    "        return val\n",
    "    return otherFunc"
   ]
  },
  {
   "cell_type": "markdown",
   "metadata": {},
   "source": [
    "Now we can fill otherFunc with the loop that papplies all the arguments to func:"
   ]
  },
  {
   "cell_type": "code",
   "execution_count": null,
   "metadata": {},
   "outputs": [],
   "source": [
    "def same(func):\n",
    "    def otherFunc(*args):\n",
    "        currFunc = func\n",
    "        for arg in args:\n",
    "            currFunc = papply(currFunc, arg)\n",
    "        return currFunc()\n",
    "    return otherFunc"
   ]
  },
  {
   "cell_type": "markdown",
   "metadata": {},
   "source": [
    "This is our solution."
   ]
  },
  {
   "cell_type": "markdown",
   "metadata": {},
   "source": [
    "### Exercise 3.1\n",
    "\n",
    "We saw previously that to create an addition table of all pairs of numbers from 1 to 12, we did this:"
   ]
  },
  {
   "cell_type": "code",
   "execution_count": null,
   "metadata": {},
   "outputs": [],
   "source": [
    "addTable = papplycombo(papplycombo(add, range(1, 13)), range(1, 13))"
   ]
  },
  {
   "cell_type": "markdown",
   "metadata": {},
   "source": [
    "To do the same thing for multiplication, we replace the \"add\" above with \"multiply\":"
   ]
  },
  {
   "cell_type": "code",
   "execution_count": null,
   "metadata": {},
   "outputs": [],
   "source": [
    "multTable = papplycombo(papplycombo(multiply, range(1, 13)), range(1, 13))"
   ]
  },
  {
   "cell_type": "markdown",
   "metadata": {},
   "source": [
    "### Exercise 3.2\n",
    "\n",
    "In our \"same\" function, we used papply to apply a single argument to our function at a time. If we use \"papplycombo\" instead, then we can apply a whole list of possible arguments at once. To do this, we use the same code for our \"same\" function, and replace \"papply\" with \"papplycombo\"."
   ]
  },
  {
   "cell_type": "code",
   "execution_count": null,
   "metadata": {},
   "outputs": [],
   "source": [
    "def combo(func):\n",
    "    def otherFunc(*args):\n",
    "        currFunc = func\n",
    "        for arg in args:\n",
    "            currFunc = papplycombo(currFunc, arg)\n",
    "        return currFunc()\n",
    "    return otherFunc"
   ]
  },
  {
   "cell_type": "markdown",
   "metadata": {},
   "source": [
    "However, when we try to run the actual exercise cell, we get one true and two falses instead of three trues. Why do we pass only the first case? Let's see what we got for the second case vs. what we should have gotten to try to get insight into what we did wrong. Make sure to run the cases in the actual exercise before trying to run the next cell:"
   ]
  },
  {
   "cell_type": "code",
   "execution_count": null,
   "metadata": {},
   "outputs": [],
   "source": [
    "print(adjTable[1][0][0])\n",
    "print(adjFunc(adj1Choices[1], adj2Choices[0], adj3Choices[0]))"
   ]
  },
  {
   "cell_type": "markdown",
   "metadata": {},
   "source": [
    "Our table gave us the output if we chose the first choice for the first argument (\"quick\"), the first choice for the second argument (\"brown\") and the second choice for the last argument (\"sleepy\"). However, the correct answer has the second choice for the first argument (\"energetic\") and the first choice for the third argument (\"lazy\"). Since we put \\[1\\]\\[0\\]\\[0\\], we should be getting the second choice for the first argument and the first choice for the third argument, since the order of the indeces should match with the order of the arguments. The indeces for the first and third argument are flipped: the first index lets you choose the third argument, and the third index lets you choose the first argument. Let's check the third case to see if the indeces are flipped there too:"
   ]
  },
  {
   "cell_type": "code",
   "execution_count": null,
   "metadata": {},
   "outputs": [],
   "source": [
    "print(adjTable[0][2][1])\n",
    "print(adjFunc(adj1Choices[0], adj2Choices[2], adj3Choices[1]))"
   ]
  },
  {
   "cell_type": "markdown",
   "metadata": {},
   "source": [
    "Our answer had the second choice for the first argument and the first choice for the third argument. The correct answer had the first choice for the second argument and the second choice for the third argument. Once again, the indeces are flipped.\n",
    "\n",
    "But why is this the case? To understand, lets do the papplycombos manually and see what happens after each step:"
   ]
  },
  {
   "cell_type": "code",
   "execution_count": null,
   "metadata": {},
   "outputs": [],
   "source": [
    "func1 = papplycombo(adjFunc, adj1Choices)\n",
    "list1 = func1(adj2Choices[0], adj3Choices[0])\n",
    "print(list1)\n",
    "print(list1[1])"
   ]
  },
  {
   "cell_type": "markdown",
   "metadata": {},
   "source": [
    "This is the correct result. We have a list of every possible output when we make different choices for the first argument. When we index with 1, it outputs what we would have gotten if we had plugged in the second choice for the first argument.\n",
    "\n",
    "Let's do the next papplycombo:"
   ]
  },
  {
   "cell_type": "code",
   "execution_count": null,
   "metadata": {},
   "outputs": [],
   "source": [
    "func2 = papplycombo(func1, adj2Choices)\n",
    "list2 = func2(adj3Choices[0])\n",
    "print(list2)\n",
    "print(list2[0][1])\n",
    "print(list2[1][0])"
   ]
  },
  {
   "cell_type": "markdown",
   "metadata": {},
   "source": [
    "Now we get a list of lists containing all the combination of all the choices for the first and second arguments. This is what we want. However, when we try to get the output with the first choice for the first argument (\"quick\") and the second choice for the second argument (\"maroon\") by typing list2\\[0\\]\\[1\\], we instead get the second choice for the first argument (\"quick\") and the first choice for the second argument (\"brown\"). Once again, the indeces are flipped.\n",
    "\n",
    "Why is this happening? Well, when we look at the full list, we see that it is a list of lists. All the elements of a inner list have the same second argument and different first arguments. E.g.:"
   ]
  },
  {
   "cell_type": "code",
   "execution_count": null,
   "metadata": {},
   "outputs": [],
   "source": [
    "list2[0]"
   ]
  },
  {
   "cell_type": "markdown",
   "metadata": {},
   "source": [
    "As you can see, each element has a different first argument, but the same second argument (\"brown\"). Each inner list also has a different second argument than the other inner lists. E.g.:"
   ]
  },
  {
   "cell_type": "code",
   "execution_count": null,
   "metadata": {},
   "outputs": [],
   "source": [
    "print(list2[0])\n",
    "print(list2[1])"
   ]
  },
  {
   "cell_type": "markdown",
   "metadata": {},
   "source": [
    "The first inner list has the second argument of \"brown\", and the second inner list has the second argument of \"maroon\".\n",
    "\n",
    "When we index \"list2\", the first index chooses an inner list, and therefore chooses a second argument since all the inner lists have different second arguments. The second index chooses an element from the inner list, which chooses the first argument, since all the elements of any inner list have different first arguments.\n",
    "\n",
    "This isn't what we want. We want the first index to choose the first argument and the second index to choose the second argument. This means we want the elements of the inner lists to have different second arguments and the same first argument, and we want all the inner lists to have different first arguments from each other. How do we make this happen?\n",
    "\n",
    "To figure this out, we have to first figure out which part of the code controls the what the inner lists and outer lists are. The only part of the code that actually makes the lists is the papplycombo function:"
   ]
  },
  {
   "cell_type": "code",
   "execution_count": null,
   "metadata": {},
   "outputs": [],
   "source": [
    "papplycombo = lambda func, xiter: lambda *args: [func(x, *args) for x in xiter]"
   ]
  },
  {
   "cell_type": "markdown",
   "metadata": {},
   "source": [
    "This makes a list where the first argument is different for each element of the list. If we use papplycombo, we get the inner lists, where the first argument is different. When we use papplycombo twice, we get the outer lists, where the second argument is different. This is what we figured out from running our tests above.\n",
    "\n",
    "How do we flip it and get the opposite? How can we make the last argument different for each element of the list instead? Well, instead of putting the argument, \"x\", first, we can put it last:"
   ]
  },
  {
   "cell_type": "code",
   "execution_count": null,
   "metadata": {},
   "outputs": [],
   "source": [
    "papplycomboreverse = lambda func, xiter: lambda *args: [func(*args, x) for x in xiter]"
   ]
  },
  {
   "cell_type": "markdown",
   "metadata": {},
   "source": [
    "We call this \"papplycomboreverse\", because unlike the original papplycombo, which puts \"x\" first, this puts \"x\" last.\n",
    "\n",
    "One thing we have to be careful of, however, is to papply the arguments in the correct order. In the original papplycombo, because \"x\" was first before \"\\*args\", we fed the first argument in as \"x\", then the second, then so on. Now, because \"x\" is after \"\\*args\", this means it is the last argument. This means we have to feed the last argument, then the second to last, and so on. In other words, we have to papply the arguments in reverse order:"
   ]
  },
  {
   "cell_type": "code",
   "execution_count": null,
   "metadata": {},
   "outputs": [],
   "source": [
    "def combo(func):\n",
    "    def otherFunc(*args):\n",
    "        currFunc = func\n",
    "        for arg in reversed(args):\n",
    "            currFunc = papplycomboreverse(currFunc, arg)\n",
    "        return currFunc()\n",
    "    return otherFunc"
   ]
  },
  {
   "cell_type": "markdown",
   "metadata": {},
   "source": [
    "This gives us our solution."
   ]
  },
  {
   "cell_type": "code",
   "execution_count": null,
   "metadata": {},
   "outputs": [],
   "source": []
  }
 ],
 "metadata": {
  "kernelspec": {
   "display_name": "Python 3",
   "language": "python",
   "name": "python3"
  },
  "language_info": {
   "codemirror_mode": {
    "name": "ipython",
    "version": 3
   },
   "file_extension": ".py",
   "mimetype": "text/x-python",
   "name": "python",
   "nbconvert_exporter": "python",
   "pygments_lexer": "ipython3",
   "version": "3.7.2"
  }
 },
 "nbformat": 4,
 "nbformat_minor": 2
}
